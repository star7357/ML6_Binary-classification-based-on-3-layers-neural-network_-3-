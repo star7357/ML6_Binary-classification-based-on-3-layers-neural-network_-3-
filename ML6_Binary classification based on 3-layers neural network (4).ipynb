{
 "cells": [
  {
   "cell_type": "markdown",
   "metadata": {},
   "source": [
    "# Machine Learning Project"
   ]
  },
  {
   "cell_type": "markdown",
   "metadata": {},
   "source": [
    "## Binary classification based on 3 layers neural network (3)"
   ]
  },
  {
   "cell_type": "markdown",
   "metadata": {},
   "source": [
    "#### First layer\n",
    "\n",
    "$Z^{[1]} = W^{[1]} X + b^{[1]}$ : $X$ denotes the input data\n",
    "\n",
    "$A^{[1]} = g^{[1]}(Z^{[1]})$ : $g^{[1]}$ is the activation function at the first layer\n",
    "\n",
    "#### Second layer\n",
    "\n",
    "$Z^{[2]} = W^{[2]} A^{[1]} + b^{[2]}$\n",
    "\n",
    "$A^{[2]} = g^{[2]}(Z^{[2]})$ : $g^{[2]}$ is the activation function at the second layer\n",
    "\n",
    "#### Third layer\n",
    "\n",
    "$Z^{[3]} = W^{[3]} A^{[2]} + b^{[3]}$\n",
    "\n",
    "$A^{[3]} = g^{[3]}(Z^{[3]})$ : $g^{[3]}$ is the activation function at the third (output) layer\n",
    "\n",
    "### Activation Function\n",
    "\n",
    "- Sigmoid\n",
    "\n",
    "    $g(z) = \\frac{1}{1 + \\exp^{-z}}$\n",
    "## Loss function with a regularization term based on $L_2^2$ norm\n",
    "\n",
    "$\\mathcal{L} = \\frac{1}{n} \\sum_{i=1}^n f_i + \\frac{\\lambda}{2} \\left( \\| W^{[1]} \\|_F^2 + \\| W^{[2]} \\|_F^2 + \\| W^{[3]} \\|_F^2 \\right)$\n",
    "\n",
    "- Cross Entropy : \n",
    "    $f_i = - y_i \\log \\hat{y}_i - (1 - y_i) \\log (1 - \\hat{y}_i) $\n",
    "\n",
    "- Frobenius Norm : \n",
    "    $\\| W \\|_F = \\left( \\sum_i \\sum_j w_{ij}^2 \\right)^{\\frac{1}{2}}$\n",
    "\n",
    "### Dataset\n",
    "\n",
    "- The dataset consists of human images and horse images for the training and the validation\n",
    "- The classifier should be trained using only the training set\n",
    "- The classifier should be tested using only the validation set\n",
    "- Vectorize an input image matrix into a column vector\n",
    "\n",
    "### Implementation\n",
    "\n",
    "- Write codes in python programming\n",
    "- Use jupyter notebook for the programming environment\n",
    "- You can use any libarary\n",
    "- You have to write your own functions for the followings:\n",
    "    - compute the forward propagation\n",
    "    - compute the backward propagation\n",
    "    - compute the loss\n",
    "    - compute the accuracy\n",
    "    - compute the gradient of the model parameters with respect to the loss\n",
    "    - update the model parameters\n",
    "    - plot the results\n",
    "\n",
    "### Optimization\n",
    "\n",
    "- You should apply the full gradient descent algorithm with your choice of learning rates\n",
    "- You should apply enough number of iterations that lead to the convergence of the algorithm\n",
    "- You should use the vectorization scheme in the computation of gradients and the update of the model parameters\n",
    "- You can initialize the model parameters with your own algorithm"
   ]
  },
  {
   "cell_type": "markdown",
   "metadata": {},
   "source": [
    "### [ Implementation ]"
   ]
  },
  {
   "cell_type": "markdown",
   "metadata": {},
   "source": [
    "#### (1) Libraries and Global variables"
   ]
  },
  {
   "cell_type": "code",
   "execution_count": 5,
   "metadata": {},
   "outputs": [],
   "source": [
    "from torch.utils.data import Dataset, DataLoader\n",
    "import torchvision.transforms as transforms\n",
    "import matplotlib.pyplot as plt\n",
    "import numpy as np\n",
    "import torchvision\n",
    "import torch\n",
    "import math\n",
    "import os\n",
    "\n",
    "# Global Variables\n",
    "train_data_path = './horse-or-human/train'\n",
    "validation_data_path = './horse-or-human/validation'\n",
    "\n",
    "layer_dims = [10000,50,10,1]    # number of units(Neurons) in each layer\n",
    "learning_rate = 0.02            # step size per each epoch (iteration)\n",
    "threshold = 0.1                 # minimum of cost\n",
    "max_epoch = 2500                # maximum number of epoch (iteration)"
   ]
  },
  {
   "cell_type": "markdown",
   "metadata": {},
   "source": [
    "#### (2) Generate Input matrix X and Output vector Y from training and validation datasets"
   ]
  },
  {
   "cell_type": "code",
   "execution_count": 6,
   "metadata": {},
   "outputs": [],
   "source": [
    "def initialize_inputs(image_path) :\n",
    "    transform = transforms.Compose([transforms.Grayscale(),transforms.ToTensor(),])\n",
    "    # the code transforms.Grayscale() is for changing the size [3,100,100] to [1, 100, 100]\n",
    "    # (notice : [channel, height, width] )\n",
    "    image_set = torchvision.datasets.ImageFolder(root=image_path, transform=transform)\n",
    "    loader = torch.utils.data.DataLoader(image_set, batch_size=1, shuffle=False, num_workers=1)  \n",
    "\n",
    "    for i,data in enumerate(loader) :\n",
    "        image, label = data\n",
    "        image = image.view(10000,1)\n",
    "        label = label.view(1,1).type(torch.FloatTensor)\n",
    "        \n",
    "        if i == 0 :\n",
    "            t_images = image\n",
    "            t_labels = label\n",
    "        else :\n",
    "            t_images = torch.cat((t_images,image),dim = 1)\n",
    "            t_labels = torch.cat((t_labels,label),dim = 1)\n",
    "        \n",
    "        images = t_images.numpy()\n",
    "        labels = t_labels.numpy()\n",
    "    \n",
    "    return images, labels"
   ]
  },
  {
   "cell_type": "markdown",
   "metadata": {},
   "source": [
    "#### (3) Activation Functions"
   ]
  },
  {
   "cell_type": "code",
   "execution_count": 7,
   "metadata": {},
   "outputs": [],
   "source": [
    "def Sigmoid(Z):\n",
    "    A = 1/(1+np.exp(-Z))\n",
    "    return A\n",
    "\n",
    "def Sigmoid_backward(dA, Z):\n",
    "    t_A = 1/(1+np.exp(-Z))\n",
    "    dZ = dA * t_A * (1-t_A)\n",
    "    return dZ\n",
    "\n",
    "def ReLU(Z):\n",
    "    A = np.maximum(0,Z)\n",
    "    return A\n",
    "\n",
    "def ReLU_backward(dA, Z):\n",
    "    dZ = np.array(dA, copy=True)\n",
    "    dZ[Z <= 0] = 0    \n",
    "    return dZ\n",
    "\n",
    "def Leaky_ReLU(Z) :\n",
    "    A = np.maximum(0.01*Z, Z)\n",
    "    return A\n",
    "\n",
    "def Leaky_ReLU_backward(dA,Z) :\n",
    "    dZ = np.array(dA, copy=True)\n",
    "    dZ[Z < 0] *= 0.01\n",
    "    return dZ\n",
    "    \n",
    "def Tanh(Z) :\n",
    "    A = np.tanh(Z)\n",
    "    return A\n",
    "\n",
    "def Tanh_backward(dA, Z) :\n",
    "    t_A = np.tanh(Z)\n",
    "    dZ = dA * (1 - np.square(t_A))\n",
    "    return dZ"
   ]
  },
  {
   "cell_type": "markdown",
   "metadata": {},
   "source": [
    "#### (4) Cost and Parameter initialization / update Functions"
   ]
  },
  {
   "cell_type": "code",
   "execution_count": 54,
   "metadata": {},
   "outputs": [],
   "source": [
    "def initalize_parameters(n) :\n",
    "    parameters = dict()\n",
    "    \n",
    "    # Initalize W[i] and b[i] for i in [1,L-1]\n",
    "    for l in range(1,len(n)) :\n",
    "        parameters['W'+str(l)] = np.random.randn(n[l],n[l-1]) / np.sqrt(n[l-1])\n",
    "        parameters['b'+str(l)] = np.zeros((n[l],1))\n",
    "        \n",
    "    return parameters\n",
    "\n",
    "def update_parameters(parameters,gradients,learning_rate) :\n",
    "    L = len(parameters) // 2\n",
    "    \n",
    "    # Update W[i] and b[i] for i in [1,L]\n",
    "    for l in range(1,L+1) :\n",
    "        dW, db = gradients['dW'+str(l)], gradients['db'+str(l)]\n",
    "        parameters['W'+str(l)] -= learning_rate * dW\n",
    "        parameters['b'+str(l)] -= learning_rate * db\n",
    "\n",
    "    return parameters\n",
    "\n",
    "def cost_computation(AL, Y, parameters, mbd) :\n",
    "    reg = 0\n",
    "    L = len(parameters) // 2\n",
    "    m = Y.shape[1]\n",
    "    \n",
    "    for l in range(1,L+1) :\n",
    "        reg += np.sum(np.square(parameters['W'+str(l)]))\n",
    "    reg *= mbd / (2 * m)\n",
    "    \n",
    "    cost = (-np.dot(Y,np.log(AL).T) - np.dot(1-Y,np.log(1-AL).T)) / m + reg\n",
    "    \n",
    "    cost = np.squeeze(cost)\n",
    "    return cost"
   ]
  },
  {
   "cell_type": "code",
   "execution_count": null,
   "metadata": {},
   "outputs": [],
   "source": []
  },
  {
   "cell_type": "markdown",
   "metadata": {},
   "source": [
    "#### (5) Forward Propagation"
   ]
  },
  {
   "cell_type": "code",
   "execution_count": 9,
   "metadata": {},
   "outputs": [],
   "source": [
    "def forward_Z_computation(A_prev,W,b) :\n",
    "    Z = np.dot(W,A_prev) + b\n",
    "    return Z\n",
    "\n",
    "def forward_A_computation(A_prev,W,b,activation) :\n",
    "    assert activation in ['sigmoid','relu','tanh','leaky_relu']\n",
    "    \n",
    "    Z = forward_Z_computation(A_prev,W,b)\n",
    "    if activation == 'sigmoid' :\n",
    "        A = Sigmoid(Z)\n",
    "    elif activation == 'relu' :\n",
    "        A = ReLU(Z)\n",
    "    elif activation == 'tanh' :\n",
    "        A = Tanh(Z)\n",
    "    else :\n",
    "        A = Leaky_ReLU(Z)\n",
    "    \n",
    "    cache = ((A_prev,W,b),Z)\n",
    "    return A, cache\n",
    "\n",
    "def forward_propagation(X,parameters,activations) :\n",
    "    caches = []\n",
    "    A = X\n",
    "    L = len(parameters) // 2\n",
    "    \n",
    "    for l in range(1,L+1) :\n",
    "        A_prev, W, b = A, parameters['W'+str(l)], parameters['b'+str(l)]\n",
    "        A,cache = forward_A_computation(A_prev,W,b,activations[l-1])\n",
    "        caches.append(cache)    \n",
    "    AL = A\n",
    "    \n",
    "    return AL, caches"
   ]
  },
  {
   "cell_type": "markdown",
   "metadata": {},
   "source": [
    "#### (6) Backward Propagation"
   ]
  },
  {
   "cell_type": "code",
   "execution_count": 16,
   "metadata": {},
   "outputs": [],
   "source": [
    "def backward_params_dev_computation(dA,cache,activation, mbd) :\n",
    "    assert activation in ['sigmoid','relu','tanh','leaky_relu']\n",
    "    (A_prev,W,b),Z = cache\n",
    "    m = A_prev.shape[1]\n",
    "\n",
    "    if activation == 'sigmoid' :\n",
    "        dZ = Sigmoid_backward(dA,Z)\n",
    "    elif activation == 'relu' :\n",
    "        dZ = ReLU_backward(dA,Z)\n",
    "    elif activation == 'tanh' :\n",
    "        dZ = Tanh_backward(dA,Z)\n",
    "    else :\n",
    "        dZ = Leaky_ReLU_backward(dA,Z)\n",
    "    \n",
    "#    dW = np.dot(dZ,A_prev.T) / m\n",
    "    dW = np.dot(dZ,A_prev.T) / m + mbd / m * W\n",
    "    db = np.sum(dZ, axis = 1, keepdims = True) / m\n",
    "    dA_prev = np.dot(W.T,dZ)\n",
    "    \n",
    "    return dA_prev, dW, db azuu\n",
    "\n",
    "def backward_propagation(AL, Y, caches,activations, mbd) :\n",
    "    gradients = dict()\n",
    "    L = len(caches)\n",
    "    m = AL.shape[1]\n",
    "    Y = Y.reshape(AL.shape)\n",
    "    \n",
    "    dAL = - (np.divide(Y,AL) - np.divide(1-Y,1-AL))\n",
    "    cache = caches[L-1]\n",
    "    dA_prev, dW, db = backward_params_dev_computation(dAL,cache,activations[L-1], mbd)\n",
    "    gradients['dA'+str(L)] = dA_prev\n",
    "    gradients['dW'+str(L)] = dW\n",
    "    gradients['db'+str(L)] = db\n",
    "    \n",
    "    for l in reversed(range(1,L)) :\n",
    "        dA = gradients['dA' + str(l+1)]\n",
    "        dA_prev, dW, db = backward_params_dev_computation(dA,caches[l-1],activations[l-1], mbd)\n",
    "        gradients['dA'+str(l)] = dA_prev\n",
    "        gradients['dW'+str(l)] = dW\n",
    "        gradients['db'+str(l)] = db\n",
    "        \n",
    "    return gradients"
   ]
  },
  {
   "cell_type": "markdown",
   "metadata": {},
   "source": [
    "#### (7) Predictions"
   ]
  },
  {
   "cell_type": "code",
   "execution_count": 17,
   "metadata": {},
   "outputs": [],
   "source": [
    "def predict(AL,Y) :\n",
    "    correct = np.zeros(Y.shape)\n",
    "    m = AL.shape[1]\n",
    "\n",
    "    prediction = AL > 0.5\n",
    "    correct = prediction == Y\n",
    "    \n",
    "    accuracy = np.sum(correct) / m\n",
    "    return accuracy"
   ]
  },
  {
   "cell_type": "markdown",
   "metadata": {},
   "source": [
    "#### (8) 3-layer Neural Network"
   ]
  },
  {
   "cell_type": "code",
   "execution_count": 26,
   "metadata": {},
   "outputs": [],
   "source": [
    "def NN_3_layers(X,Y,t_X,t_Y,n,activations,mbd,learning_rate,threshold,max_epoch) :\n",
    "\n",
    "    np.random.seed(1)\n",
    "    costs, t_costs = [],[]\n",
    "    accuracy, t_accuracy = [],[]\n",
    "    parameters = initalize_parameters(n)\n",
    "    \n",
    "    for epoch in range(max_epoch) :\n",
    "        AL, caches = forward_propagation(X, parameters, activations)\n",
    "        t_AL, _t = forward_propagation(t_X, parameters, activations)\n",
    "        \n",
    "        cost = cost_computation(AL,Y,parameters,mbd)\n",
    "        t_cost = cost_computation(t_AL,t_Y,parameters,mbd)\n",
    "        \n",
    "        gradients = backward_propagation(AL,Y,caches,activations,mbd)\n",
    "        \n",
    "        parameters = update_parameters(parameters,gradients,learning_rate)\n",
    "        \n",
    "        costs.append(cost)\n",
    "        t_costs.append(t_cost)\n",
    "        \n",
    "        accuracy.append(predict(AL,Y))\n",
    "        t_accuracy.append(predict(t_AL,t_Y))\n",
    "        \n",
    "        if  epoch % 100 == 0:\n",
    "            print (\"Cost after iteration %i: %f\" %(epoch, cost))\n",
    "        if cost < threshold :\n",
    "            break\n",
    "            \n",
    "    return costs, accuracy, t_costs, t_accuracy"
   ]
  },
  {
   "cell_type": "markdown",
   "metadata": {},
   "source": [
    "#### (9) Plot Loss and Accuracy Graphs"
   ]
  },
  {
   "cell_type": "code",
   "execution_count": 19,
   "metadata": {},
   "outputs": [],
   "source": [
    "def plotResult(costs,accuracy,title) :\n",
    "    plt.rcParams[\"figure.figsize\"] = (12,6)\n",
    "    plt.subplot(121)\n",
    "    plt.title('Costs', fontsize = 15, color = 'black')\n",
    "    plt.plot(np.squeeze(costs))\n",
    "    plt.subplot(122)\n",
    "    plt.title('Accuracy', fontsize = 15, color = 'black')\n",
    "    plt.plot(np.squeeze(accuracy))\n",
    "    plt.suptitle(title, fontsize = 20, color = 'black',position=(0.5, 1.0+0.05))\n",
    "    plt.show()"
   ]
  },
  {
   "cell_type": "markdown",
   "metadata": {},
   "source": [
    "### Output\n",
    "\n",
    "- Do not print out text message per each iteration. It should be illustrated by graphs\n",
    "- Demonstrate the role of regularization with varying parameter $\\lambda$ for the tradeoff between bias and variance\n",
    "- Plot the training loss at every iteration (x-axis: iteration, y-axis: loss)\n",
    "- Plot the validation loss at every iteration (x-axis: iteration, y-axis: loss)\n",
    "- Plot the training accuracy at every iteration (x-axis: iteration, y-axis: accuracy)\n",
    "- Plot the validation accuracy at every iteration (x-axis: iteration, y-axis: accuracy)\n",
    "- Present the table for the final accuracy and loss at convergence with training and validation datasets\n",
    "    - training loss (at convergence)\n",
    "    - validation loss (at convergence)\n",
    "    - training accuracy (at convergence)\n",
    "    - validation accuracy (at convergence)"
   ]
  },
  {
   "cell_type": "code",
   "execution_count": 20,
   "metadata": {},
   "outputs": [],
   "source": [
    "X,Y = initialize_inputs(train_data_path)\n",
    "t_X, t_Y = initialize_inputs(validation_data_path)\n",
    "\n",
    "n = [10000,50,10,1]"
   ]
  },
  {
   "cell_type": "markdown",
   "metadata": {},
   "source": [
    "##### Bias (large $\\lambda$)\n",
    "\n",
    "- Learning curves\n",
    "- Loss and Accuracy table \n",
    "\n",
    "| dataset    | loss       | accuracy   | \n",
    "|:----------:|:----------:|:----------:|\n",
    "| training   |            |            |\n",
    "| validation |            |            |"
   ]
  },
  {
   "cell_type": "code",
   "execution_count": 37,
   "metadata": {},
   "outputs": [
    {
     "name": "stdout",
     "output_type": "stream",
     "text": [
      "Cost after iteration 0: 0.779455\n",
      "Cost after iteration 100: 0.696083\n",
      "Cost after iteration 200: 0.687032\n",
      "Cost after iteration 300: 0.677831\n",
      "Cost after iteration 400: 0.665737\n",
      "Cost after iteration 500: 0.648542\n",
      "Cost after iteration 600: 0.624929\n",
      "Cost after iteration 700: 0.595123\n",
      "Cost after iteration 800: 0.561172\n",
      "Cost after iteration 900: 0.525849\n",
      "Cost after iteration 1000: 0.491228\n",
      "Cost after iteration 1100: 0.458176\n",
      "Cost after iteration 1200: 0.426825\n",
      "Cost after iteration 1300: 0.397099\n",
      "Cost after iteration 1400: 0.368909\n",
      "Cost after iteration 1500: 0.342183\n",
      "Cost after iteration 1600: 0.316928\n",
      "Cost after iteration 1700: 0.293122\n",
      "Cost after iteration 1800: 0.270703\n",
      "Cost after iteration 1900: 0.312731\n",
      "Cost after iteration 2000: 0.285499\n",
      "Cost after iteration 2100: 0.269552\n",
      "Cost after iteration 2200: 0.255447\n",
      "Cost after iteration 2300: 0.241921\n",
      "Cost after iteration 2400: 0.228586\n",
      "Cost after iteration 2500: 0.215286\n",
      "Cost after iteration 2600: 0.202086\n",
      "Cost after iteration 2700: 0.189075\n",
      "Cost after iteration 2800: 0.176317\n",
      "Cost after iteration 2900: 0.163930\n"
     ]
    }
   ],
   "source": [
    "activations = ['sigmoid','sigmoid','sigmoid']\n",
    "learning_rate = 0.03\n",
    "thres_hold = 0.01\n",
    "max_epoch = 3000\n",
    "mbd = 0.1\n",
    "\n",
    "costs, accuracy, t_costs, t_accuracy = NN_3_layers(X,Y,t_X,t_Y,n,activations,mbd,learning_rate,threshold,max_epoch)"
   ]
  },
  {
   "cell_type": "code",
   "execution_count": 38,
   "metadata": {},
   "outputs": [
    {
     "data": {
      "image/png": "[encoded data removed]",
      "text/plain": [
       "<Figure size 864x432 with 2 Axes>"
      ]
     },
     "metadata": {
      "needs_background": "light"
     },
     "output_type": "display_data"
    },
    {
     "data": {
      "image/png": "[encoded data removed]",
      "text/plain": [
       "<Figure size 864x432 with 2 Axes>"
      ]
     },
     "metadata": {
      "needs_background": "light"
     },
     "output_type": "display_data"
    }
   ],
   "source": [
    "plotResult(costs, accuracy,'Training')\n",
    "plotResult(t_costs, t_accuracy, 'Validation')"
   ]
  },
  {
   "cell_type": "code",
   "execution_count": 39,
   "metadata": {},
   "outputs": [
    {
     "name": "stdout",
     "output_type": "stream",
     "text": [
      "Training Loss       : 0.16208\n",
      "Training Accuracy   : 95.42 %\n",
      "Validation Loss     : 0.40815\n",
      "Validation Accuracy : 86.72 %\n"
     ]
    }
   ],
   "source": [
    "print(\"Training Loss       : %.5f\" % costs[-1])\n",
    "print(\"Training Accuracy   : %.2f %%\" % (accuracy[-1] * 100))\n",
    "print(\"Validation Loss     : %.5f\" % t_costs[-1])\n",
    "print(\"Validation Accuracy : %.2f %%\" % (t_accuracy[-1] * 100))"
   ]
  },
  {
   "cell_type": "code",
   "execution_count": 40,
   "metadata": {},
   "outputs": [
    {
     "name": "stdout",
     "output_type": "stream",
     "text": [
      "Max Validation Loss     : 0.64931\n",
      "Max Validation Accuracy : 88.67 %\n"
     ]
    }
   ],
   "source": [
    "i = t_accuracy.index(max(t_accuracy))\n",
    "max_validation_cost, max_validation_accuracy = t_costs[i], t_accuracy[i]\n",
    "\n",
    "print(\"Max Validation Loss     : %.5f\" % max_validation_cost)\n",
    "print(\"Max Validation Accuracy : %.2f %%\" % (max_validation_accuracy * 100))"
   ]
  },
  {
   "cell_type": "code",
   "execution_count": null,
   "metadata": {},
   "outputs": [],
   "source": []
  },
  {
   "cell_type": "markdown",
   "metadata": {},
   "source": [
    "##### Variance (small $\\lambda$)\n",
    "\n",
    "- Learning curves\n",
    "- Loss and Accuracy table \n",
    "\n",
    "| dataset    | loss       | accuracy   | \n",
    "|:----------:|:----------:|:----------:|\n",
    "| training   |            |            |\n",
    "| validation |            |            |\n",
    "\n",
    "##### Best Generalization (appropriate $\\lambda$)\n",
    "\n",
    "- Learning curves\n",
    "- Loss and Accuracy table \n",
    "\n",
    "| dataset    | loss       | accuracy   | \n",
    "|:----------:|:----------:|:----------:|\n",
    "| training   |            |            |\n",
    "| validation |            |            |"
   ]
  },
  {
   "cell_type": "code",
   "execution_count": 55,
   "metadata": {},
   "outputs": [
    {
     "name": "stdout",
     "output_type": "stream",
     "text": [
      "Cost after iteration 0: 0.776573\n",
      "Cost after iteration 100: 0.693210\n",
      "Cost after iteration 200: 0.684146\n",
      "Cost after iteration 300: 0.674903\n",
      "Cost after iteration 400: 0.662736\n",
      "Cost after iteration 500: 0.645425\n",
      "Cost after iteration 600: 0.621654\n",
      "Cost after iteration 700: 0.591665\n",
      "Cost after iteration 800: 0.557537\n",
      "Cost after iteration 900: 0.522061\n",
      "Cost after iteration 1000: 0.487305\n",
      "Cost after iteration 1100: 0.454124\n",
      "Cost after iteration 1200: 0.422646\n",
      "Cost after iteration 1300: 0.392791\n",
      "Cost after iteration 1400: 0.364468\n",
      "Cost after iteration 1500: 0.337608\n",
      "Cost after iteration 1600: 0.312220\n",
      "Cost after iteration 1700: 0.288283\n",
      "Cost after iteration 1800: 0.265732\n",
      "Cost after iteration 1900: 0.343631\n",
      "Cost after iteration 2000: 0.302698\n",
      "Cost after iteration 2100: 0.284154\n",
      "Cost after iteration 2200: 0.268976\n",
      "Cost after iteration 2300: 0.254605\n",
      "Cost after iteration 2400: 0.240266\n",
      "Cost after iteration 2500: 0.225706\n",
      "Cost after iteration 2600: 0.211089\n",
      "Cost after iteration 2700: 0.196563\n",
      "Cost after iteration 2800: 0.182297\n",
      "Cost after iteration 2900: 0.168486\n"
     ]
    }
   ],
   "source": [
    "activations = ['sigmoid','sigmoid','sigmoid']\n",
    "learning_rate = 0.01\n",
    "thres_hold = 0.01\n",
    "max_epoch = 3000\n",
    "mbd = 0.001\n",
    "\n",
    "costs, accuracy, t_costs, t_accuracy = NN_3_layers(X,Y,t_X,t_Y,n,activations,mbd,learning_rate,threshold,max_epoch)"
   ]
  },
  {
   "cell_type": "code",
   "execution_count": 63,
   "metadata": {},
   "outputs": [
    {
     "data": {
      "image/png": "[encoded data removed]",
      "text/plain": [
       "<Figure size 864x432 with 2 Axes>"
      ]
     },
     "metadata": {
      "needs_background": "light"
     },
     "output_type": "display_data"
    },
    {
     "data": {
      "image/png": "[encoded data removed]",
      "text/plain": [
       "<Figure size 864x432 with 2 Axes>"
      ]
     },
     "metadata": {
      "needs_background": "light"
     },
     "output_type": "display_data"
    }
   ],
   "source": [
    "plotResult(costs[1840:1900], accuracy,'Training')\n",
    "plotResult(t_costs, t_accuracy, 'Validation')"
   ]
  },
  {
   "cell_type": "code",
   "execution_count": 57,
   "metadata": {},
   "outputs": [
    {
     "name": "stdout",
     "output_type": "stream",
     "text": [
      "Training Loss       : 0.14547\n",
      "Training Accuracy   : 95.81 %\n",
      "Validation Loss     : 0.63504\n",
      "Validation Accuracy : 76.17 %\n"
     ]
    }
   ],
   "source": [
    "print(\"Training Loss       : %.5f\" % costs[-1])\n",
    "print(\"Training Accuracy   : %.2f %%\" % (accuracy[-1] * 100))\n",
    "print(\"Validation Loss     : %.5f\" % t_costs[-1])\n",
    "print(\"Validation Accuracy : %.2f %%\" % (t_accuracy[-1] * 100))"
   ]
  },
  {
   "cell_type": "code",
   "execution_count": 58,
   "metadata": {},
   "outputs": [
    {
     "name": "stdout",
     "output_type": "stream",
     "text": [
      "Max Validation Loss     : 0.63772\n",
      "Max Validation Accuracy : 88.67 %\n"
     ]
    }
   ],
   "source": [
    "i = t_accuracy.index(max(t_accuracy))\n",
    "max_validation_cost, max_validation_accuracy = t_costs[i], t_accuracy[i]\n",
    "\n",
    "print(\"Max Validation Loss     : %.5f\" % max_validation_cost)\n",
    "print(\"Max Validation Accuracy : %.2f %%\" % (max_validation_accuracy * 100))"
   ]
  },
  {
   "cell_type": "code",
   "execution_count": 59,
   "metadata": {},
   "outputs": [
    {
     "name": "stdout",
     "output_type": "stream",
     "text": [
      "[[1 1]\n",
      " [1 1]\n",
      " [1 1]]\n",
      "2.449489742783178\n"
     ]
    }
   ],
   "source": [
    "a = np.array(([1,1],[1,1],[1,1]))\n",
    "print(a)\n",
    "print(np.linalg.norm(a,ord = 'fro'))\n",
    "\n",
    "\n",
    "#np.square(np.linalg.norm(parameters['W'+str(l)],ord = 'fro'))"
   ]
  },
  {
   "cell_type": "code",
   "execution_count": null,
   "metadata": {},
   "outputs": [],
   "source": []
  }
 ],
 "metadata": {
  "kernelspec": {
   "display_name": "PyTorch",
   "language": "python",
   "name": "pytorch"
  },
  "language_info": {
   "codemirror_mode": {
    "name": "ipython",
    "version": 3
   },
   "file_extension": ".py",
   "mimetype": "text/x-python",
   "name": "python",
   "nbconvert_exporter": "python",
   "pygments_lexer": "ipython3",
   "version": "3.7.4"
  }
 },
 "nbformat": 4,
 "nbformat_minor": 2
}
